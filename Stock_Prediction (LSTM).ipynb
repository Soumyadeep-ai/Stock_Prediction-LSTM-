{
 "cells": [
  {
   "cell_type": "code",
   "execution_count": 1,
   "metadata": {},
   "outputs": [],
   "source": [
    "# Description: This program uses an artificial Recurrent Neural Network (RNN) called Long Short Memory (LSTM) to predict the \n",
    "# closing stock price of a corporation (Apple.Inc.) using the past 60 days stock price. "
   ]
  },
  {
   "cell_type": "code",
   "execution_count": 2,
   "metadata": {},
   "outputs": [],
   "source": [
    "#Import the libraries\n",
    "import math\n",
    "import pandas_datareader as web\n",
    "import numpy as np\n",
    "import pandas as pd\n",
    "from sklearn.preprocessing import MinMaxScaler\n",
    "from keras.models import Sequential\n",
    "from keras.layers import Dense, LSTM\n",
    "import matplotlib.pyplot as plt\n",
    "plt.style.use('fivethirtyeight')"
   ]
  },
  {
   "cell_type": "code",
   "execution_count": 3,
   "metadata": {},
   "outputs": [
    {
     "data": {
      "text/html": [
       "<div>\n",
       "<style scoped>\n",
       "    .dataframe tbody tr th:only-of-type {\n",
       "        vertical-align: middle;\n",
       "    }\n",
       "\n",
       "    .dataframe tbody tr th {\n",
       "        vertical-align: top;\n",
       "    }\n",
       "\n",
       "    .dataframe thead th {\n",
       "        text-align: right;\n",
       "    }\n",
       "</style>\n",
       "<table border=\"1\" class=\"dataframe\">\n",
       "  <thead>\n",
       "    <tr style=\"text-align: right;\">\n",
       "      <th></th>\n",
       "      <th>High</th>\n",
       "      <th>Low</th>\n",
       "      <th>Open</th>\n",
       "      <th>Close</th>\n",
       "      <th>Volume</th>\n",
       "      <th>Adj Close</th>\n",
       "    </tr>\n",
       "    <tr>\n",
       "      <th>Date</th>\n",
       "      <th></th>\n",
       "      <th></th>\n",
       "      <th></th>\n",
       "      <th></th>\n",
       "      <th></th>\n",
       "      <th></th>\n",
       "    </tr>\n",
       "  </thead>\n",
       "  <tbody>\n",
       "    <tr>\n",
       "      <th>2012-01-03</th>\n",
       "      <td>14.732143</td>\n",
       "      <td>14.607143</td>\n",
       "      <td>14.621429</td>\n",
       "      <td>14.686786</td>\n",
       "      <td>302220800.0</td>\n",
       "      <td>12.610315</td>\n",
       "    </tr>\n",
       "    <tr>\n",
       "      <th>2012-01-04</th>\n",
       "      <td>14.810000</td>\n",
       "      <td>14.617143</td>\n",
       "      <td>14.642857</td>\n",
       "      <td>14.765714</td>\n",
       "      <td>260022000.0</td>\n",
       "      <td>12.678082</td>\n",
       "    </tr>\n",
       "    <tr>\n",
       "      <th>2012-01-05</th>\n",
       "      <td>14.948214</td>\n",
       "      <td>14.738214</td>\n",
       "      <td>14.819643</td>\n",
       "      <td>14.929643</td>\n",
       "      <td>271269600.0</td>\n",
       "      <td>12.818834</td>\n",
       "    </tr>\n",
       "    <tr>\n",
       "      <th>2012-01-06</th>\n",
       "      <td>15.098214</td>\n",
       "      <td>14.972143</td>\n",
       "      <td>14.991786</td>\n",
       "      <td>15.085714</td>\n",
       "      <td>318292800.0</td>\n",
       "      <td>12.952844</td>\n",
       "    </tr>\n",
       "    <tr>\n",
       "      <th>2012-01-09</th>\n",
       "      <td>15.276786</td>\n",
       "      <td>15.048214</td>\n",
       "      <td>15.196429</td>\n",
       "      <td>15.061786</td>\n",
       "      <td>394024400.0</td>\n",
       "      <td>12.932296</td>\n",
       "    </tr>\n",
       "    <tr>\n",
       "      <th>...</th>\n",
       "      <td>...</td>\n",
       "      <td>...</td>\n",
       "      <td>...</td>\n",
       "      <td>...</td>\n",
       "      <td>...</td>\n",
       "      <td>...</td>\n",
       "    </tr>\n",
       "    <tr>\n",
       "      <th>2021-10-01</th>\n",
       "      <td>142.919998</td>\n",
       "      <td>139.110001</td>\n",
       "      <td>141.899994</td>\n",
       "      <td>142.649994</td>\n",
       "      <td>94639600.0</td>\n",
       "      <td>142.649994</td>\n",
       "    </tr>\n",
       "    <tr>\n",
       "      <th>2021-10-04</th>\n",
       "      <td>142.210007</td>\n",
       "      <td>138.270004</td>\n",
       "      <td>141.759995</td>\n",
       "      <td>139.139999</td>\n",
       "      <td>98322000.0</td>\n",
       "      <td>139.139999</td>\n",
       "    </tr>\n",
       "    <tr>\n",
       "      <th>2021-10-05</th>\n",
       "      <td>142.240005</td>\n",
       "      <td>139.360001</td>\n",
       "      <td>139.490005</td>\n",
       "      <td>141.110001</td>\n",
       "      <td>80861100.0</td>\n",
       "      <td>141.110001</td>\n",
       "    </tr>\n",
       "    <tr>\n",
       "      <th>2021-10-06</th>\n",
       "      <td>142.149994</td>\n",
       "      <td>138.369995</td>\n",
       "      <td>139.470001</td>\n",
       "      <td>142.000000</td>\n",
       "      <td>83221100.0</td>\n",
       "      <td>142.000000</td>\n",
       "    </tr>\n",
       "    <tr>\n",
       "      <th>2021-10-07</th>\n",
       "      <td>144.220001</td>\n",
       "      <td>142.720001</td>\n",
       "      <td>143.059998</td>\n",
       "      <td>143.289993</td>\n",
       "      <td>61732700.0</td>\n",
       "      <td>143.289993</td>\n",
       "    </tr>\n",
       "  </tbody>\n",
       "</table>\n",
       "<p>2458 rows × 6 columns</p>\n",
       "</div>"
      ],
      "text/plain": [
       "                  High         Low        Open       Close       Volume  \\\n",
       "Date                                                                      \n",
       "2012-01-03   14.732143   14.607143   14.621429   14.686786  302220800.0   \n",
       "2012-01-04   14.810000   14.617143   14.642857   14.765714  260022000.0   \n",
       "2012-01-05   14.948214   14.738214   14.819643   14.929643  271269600.0   \n",
       "2012-01-06   15.098214   14.972143   14.991786   15.085714  318292800.0   \n",
       "2012-01-09   15.276786   15.048214   15.196429   15.061786  394024400.0   \n",
       "...                ...         ...         ...         ...          ...   \n",
       "2021-10-01  142.919998  139.110001  141.899994  142.649994   94639600.0   \n",
       "2021-10-04  142.210007  138.270004  141.759995  139.139999   98322000.0   \n",
       "2021-10-05  142.240005  139.360001  139.490005  141.110001   80861100.0   \n",
       "2021-10-06  142.149994  138.369995  139.470001  142.000000   83221100.0   \n",
       "2021-10-07  144.220001  142.720001  143.059998  143.289993   61732700.0   \n",
       "\n",
       "             Adj Close  \n",
       "Date                    \n",
       "2012-01-03   12.610315  \n",
       "2012-01-04   12.678082  \n",
       "2012-01-05   12.818834  \n",
       "2012-01-06   12.952844  \n",
       "2012-01-09   12.932296  \n",
       "...                ...  \n",
       "2021-10-01  142.649994  \n",
       "2021-10-04  139.139999  \n",
       "2021-10-05  141.110001  \n",
       "2021-10-06  142.000000  \n",
       "2021-10-07  143.289993  \n",
       "\n",
       "[2458 rows x 6 columns]"
      ]
     },
     "execution_count": 3,
     "metadata": {},
     "output_type": "execute_result"
    }
   ],
   "source": [
    "#Get the stock quote\n",
    "df = web.DataReader('AAPL', data_source='yahoo', start='2012-01-01', end='2021-10-07')\n",
    "#Shoe the data\n",
    "df"
   ]
  },
  {
   "cell_type": "code",
   "execution_count": 4,
   "metadata": {},
   "outputs": [
    {
     "data": {
      "text/plain": [
       "(2458, 6)"
      ]
     },
     "execution_count": 4,
     "metadata": {},
     "output_type": "execute_result"
    }
   ],
   "source": [
    "#Get the number of rows and columns in the data set\n",
    "df.shape"
   ]
  },
  {
   "cell_type": "code",
   "execution_count": 5,
   "metadata": {},
   "outputs": [
    {
     "data": {
      "image/png": "[encoded data removed]",
      "text/plain": [
       "<Figure size 1152x576 with 1 Axes>"
      ]
     },
     "metadata": {},
     "output_type": "display_data"
    }
   ],
   "source": [
    "#Visualize the closing price history\n",
    "plt.figure(figsize=(16,8))\n",
    "plt.title('Close Price History')\n",
    "plt.plot(df['Close'])\n",
    "plt.xlabel('Date', fontsize=18)\n",
    "plt.ylabel('Close Price USD ($)', fontsize=18)\n",
    "plt.show()"
   ]
  },
  {
   "cell_type": "code",
   "execution_count": 6,
   "metadata": {},
   "outputs": [
    {
     "data": {
      "text/plain": [
       "1967"
      ]
     },
     "execution_count": 6,
     "metadata": {},
     "output_type": "execute_result"
    }
   ],
   "source": [
    "#Create a new dataframe with only 'Close column'\n",
    "data = df.filter(['Close'])\n",
    "#Convert the dataframe to a numpy array\n",
    "dataset = data.values\n",
    "#Get the number of rows to train the model on\n",
    "training_data_len = math.ceil( len(dataset) * .8 )\n",
    "\n",
    "training_data_len"
   ]
  },
  {
   "cell_type": "code",
   "execution_count": 7,
   "metadata": {},
   "outputs": [
    {
     "data": {
      "text/plain": [
       "array([[0.00517915],\n",
       "       [0.00573209],\n",
       "       [0.00688052],\n",
       "       ...,\n",
       "       [0.8908524 ],\n",
       "       [0.8970874 ],\n",
       "       [0.9061246 ]])"
      ]
     },
     "execution_count": 7,
     "metadata": {},
     "output_type": "execute_result"
    }
   ],
   "source": [
    "#Scale the data\n",
    "scaler = MinMaxScaler(feature_range=(0,1))\n",
    "scaled_data = scaler.fit_transform(dataset)\n",
    "\n",
    "scaled_data"
   ]
  },
  {
   "cell_type": "code",
   "execution_count": 9,
   "metadata": {},
   "outputs": [
    {
     "name": "stdout",
     "output_type": "stream",
     "text": [
      "[array([0.00517915, 0.00573209, 0.00688052, 0.0079739 , 0.00780626,\n",
      "       0.00818406, 0.00801143, 0.00772119, 0.00732587, 0.00854936,\n",
      "       0.00965275, 0.00931247, 0.00744847, 0.0092274 , 0.007476  ,\n",
      "       0.01404377, 0.01353586, 0.0141989 , 0.01563254, 0.01650074,\n",
      "       0.01642818, 0.01616047, 0.01730138, 0.01837474, 0.01959072,\n",
      "       0.0215548 , 0.02568061, 0.02574316, 0.02804001, 0.02975638,\n",
      "       0.02680652, 0.02794242, 0.02791991, 0.03110496, 0.03065209,\n",
      "       0.03149026, 0.03299647, 0.03383465, 0.03624909, 0.03800799,\n",
      "       0.0385159 , 0.03869355, 0.03568614, 0.03496055, 0.03506814,\n",
      "       0.03789542, 0.03869105, 0.04039993, 0.04442815, 0.04980247,\n",
      "       0.04879666, 0.04879916, 0.05268478, 0.05390076, 0.05303505,\n",
      "       0.05224443, 0.05142127, 0.05415595, 0.05603247, 0.0568181 ])]\n",
      "[0.05487653421186173]\n",
      "\n",
      "[array([0.00517915, 0.00573209, 0.00688052, 0.0079739 , 0.00780626,\n",
      "       0.00818406, 0.00801143, 0.00772119, 0.00732587, 0.00854936,\n",
      "       0.00965275, 0.00931247, 0.00744847, 0.0092274 , 0.007476  ,\n",
      "       0.01404377, 0.01353586, 0.0141989 , 0.01563254, 0.01650074,\n",
      "       0.01642818, 0.01616047, 0.01730138, 0.01837474, 0.01959072,\n",
      "       0.0215548 , 0.02568061, 0.02574316, 0.02804001, 0.02975638,\n",
      "       0.02680652, 0.02794242, 0.02791991, 0.03110496, 0.03065209,\n",
      "       0.03149026, 0.03299647, 0.03383465, 0.03624909, 0.03800799,\n",
      "       0.0385159 , 0.03869355, 0.03568614, 0.03496055, 0.03506814,\n",
      "       0.03789542, 0.03869105, 0.04039993, 0.04442815, 0.04980247,\n",
      "       0.04879666, 0.04879916, 0.05268478, 0.05390076, 0.05303505,\n",
      "       0.05224443, 0.05142127, 0.05415595, 0.05603247, 0.0568181 ]), array([0.00573209, 0.00688052, 0.0079739 , 0.00780626, 0.00818406,\n",
      "       0.00801143, 0.00772119, 0.00732587, 0.00854936, 0.00965275,\n",
      "       0.00931247, 0.00744847, 0.0092274 , 0.007476  , 0.01404377,\n",
      "       0.01353586, 0.0141989 , 0.01563254, 0.01650074, 0.01642818,\n",
      "       0.01616047, 0.01730138, 0.01837474, 0.01959072, 0.0215548 ,\n",
      "       0.02568061, 0.02574316, 0.02804001, 0.02975638, 0.02680652,\n",
      "       0.02794242, 0.02791991, 0.03110496, 0.03065209, 0.03149026,\n",
      "       0.03299647, 0.03383465, 0.03624909, 0.03800799, 0.0385159 ,\n",
      "       0.03869355, 0.03568614, 0.03496055, 0.03506814, 0.03789542,\n",
      "       0.03869105, 0.04039993, 0.04442815, 0.04980247, 0.04879666,\n",
      "       0.04879916, 0.05268478, 0.05390076, 0.05303505, 0.05224443,\n",
      "       0.05142127, 0.05415595, 0.05603247, 0.0568181 , 0.05487653])]\n",
      "[0.05487653421186173, 0.05229696857543878]\n",
      "\n"
     ]
    }
   ],
   "source": [
    "#Create the training data set\n",
    "#create thr scaled training data set\n",
    "train_data = scaled_data[0:training_data_len, :]\n",
    "#split the data into x_train and y_train data sets\n",
    "x_train = []\n",
    "y_train = []\n",
    "\n",
    "for i in range(60, len(train_data)):\n",
    "    x_train.append(train_data[i-60:i, 0])\n",
    "    y_train.append(train_data[i, 0])\n",
    "    if i<= 61:\n",
    "        print(x_train)\n",
    "        print(y_train)\n",
    "        print()"
   ]
  },
  {
   "cell_type": "code",
   "execution_count": 10,
   "metadata": {},
   "outputs": [],
   "source": [
    "#Convert the x_train and y_train to numpy arrays\n",
    "x_train, y_train = np.array(x_train), np.array(y_train)"
   ]
  },
  {
   "cell_type": "code",
   "execution_count": 11,
   "metadata": {},
   "outputs": [
    {
     "data": {
      "text/plain": [
       "(1907, 60, 1)"
      ]
     },
     "execution_count": 11,
     "metadata": {},
     "output_type": "execute_result"
    }
   ],
   "source": [
    "#Reshape the data\n",
    "x_train = np.reshape(x_train, (x_train.shape[0], x_train.shape[1], 1))\n",
    "x_train.shape"
   ]
  },
  {
   "cell_type": "code",
   "execution_count": 12,
   "metadata": {},
   "outputs": [],
   "source": [
    "#Build the LSTM model\n",
    "model = Sequential()\n",
    "model.add(LSTM(50, return_sequences=True, input_shape = (x_train.shape[1], 1)))\n",
    "model.add(LSTM(50, return_sequences=False))\n",
    "model.add(Dense(25))\n",
    "model.add(Dense(1))"
   ]
  },
  {
   "cell_type": "code",
   "execution_count": 13,
   "metadata": {},
   "outputs": [],
   "source": [
    "#Compile the model\n",
    "model.compile(optimizer='adam', loss='mean_squared_error')"
   ]
  },
  {
   "cell_type": "code",
   "execution_count": 14,
   "metadata": {},
   "outputs": [
    {
     "name": "stdout",
     "output_type": "stream",
     "text": [
      "Epoch 1/100\n",
      "30/30 [==============================] - 3s 37ms/step - loss: 0.0039\n",
      "Epoch 2/100\n",
      "30/30 [==============================] - 1s 34ms/step - loss: 1.6468e-04\n",
      "Epoch 3/100\n",
      "30/30 [==============================] - 1s 33ms/step - loss: 8.7329e-05\n",
      "Epoch 4/100\n",
      "30/30 [==============================] - 1s 32ms/step - loss: 8.4037e-05\n",
      "Epoch 5/100\n",
      "30/30 [==============================] - 1s 34ms/step - loss: 8.2610e-05\n",
      "Epoch 6/100\n",
      "30/30 [==============================] - 1s 33ms/step - loss: 7.9221e-05\n",
      "Epoch 7/100\n",
      "30/30 [==============================] - 1s 32ms/step - loss: 7.6217e-05\n",
      "Epoch 8/100\n",
      "30/30 [==============================] - 1s 34ms/step - loss: 7.2578e-05\n",
      "Epoch 9/100\n",
      "30/30 [==============================] - 1s 34ms/step - loss: 7.6068e-05\n",
      "Epoch 10/100\n",
      "30/30 [==============================] - 1s 34ms/step - loss: 6.9476e-05\n",
      "Epoch 11/100\n",
      "30/30 [==============================] - 1s 33ms/step - loss: 6.4697e-05\n",
      "Epoch 12/100\n",
      "30/30 [==============================] - 1s 34ms/step - loss: 6.3332e-05\n",
      "Epoch 13/100\n",
      "30/30 [==============================] - 1s 33ms/step - loss: 6.2086e-05\n",
      "Epoch 14/100\n",
      "30/30 [==============================] - 1s 32ms/step - loss: 5.8948e-05\n",
      "Epoch 15/100\n",
      "30/30 [==============================] - 1s 33ms/step - loss: 5.7108e-05\n",
      "Epoch 16/100\n",
      "30/30 [==============================] - 1s 36ms/step - loss: 5.3703e-05\n",
      "Epoch 17/100\n",
      "30/30 [==============================] - 1s 33ms/step - loss: 5.1802e-05\n",
      "Epoch 18/100\n",
      "30/30 [==============================] - 1s 33ms/step - loss: 5.5463e-05\n",
      "Epoch 19/100\n",
      "30/30 [==============================] - 1s 33ms/step - loss: 4.9374e-05\n",
      "Epoch 20/100\n",
      "30/30 [==============================] - 1s 32ms/step - loss: 5.0700e-05\n",
      "Epoch 21/100\n",
      "30/30 [==============================] - 1s 33ms/step - loss: 5.0759e-05\n",
      "Epoch 22/100\n",
      "30/30 [==============================] - 1s 33ms/step - loss: 4.8729e-05\n",
      "Epoch 23/100\n",
      "30/30 [==============================] - 1s 33ms/step - loss: 4.5637e-05\n",
      "Epoch 24/100\n",
      "30/30 [==============================] - 1s 33ms/step - loss: 4.8047e-05\n",
      "Epoch 25/100\n",
      "30/30 [==============================] - 1s 35ms/step - loss: 4.7562e-05\n",
      "Epoch 26/100\n",
      "30/30 [==============================] - 1s 37ms/step - loss: 4.6523e-05\n",
      "Epoch 27/100\n",
      "30/30 [==============================] - 1s 33ms/step - loss: 4.3622e-05\n",
      "Epoch 28/100\n",
      "30/30 [==============================] - 1s 34ms/step - loss: 4.6558e-05\n",
      "Epoch 29/100\n",
      "30/30 [==============================] - 1s 33ms/step - loss: 4.4174e-05\n",
      "Epoch 30/100\n",
      "30/30 [==============================] - 1s 33ms/step - loss: 4.3677e-05\n",
      "Epoch 31/100\n",
      "30/30 [==============================] - 1s 33ms/step - loss: 4.3168e-05\n",
      "Epoch 32/100\n",
      "30/30 [==============================] - 1s 33ms/step - loss: 4.8166e-05\n",
      "Epoch 33/100\n",
      "30/30 [==============================] - 1s 33ms/step - loss: 4.2204e-05\n",
      "Epoch 34/100\n",
      "30/30 [==============================] - 1s 32ms/step - loss: 4.1195e-05\n",
      "Epoch 35/100\n",
      "30/30 [==============================] - 1s 33ms/step - loss: 4.2465e-05\n",
      "Epoch 36/100\n",
      "30/30 [==============================] - 1s 33ms/step - loss: 4.7987e-05\n",
      "Epoch 37/100\n",
      "30/30 [==============================] - 1s 34ms/step - loss: 3.8585e-05\n",
      "Epoch 38/100\n",
      "30/30 [==============================] - 1s 33ms/step - loss: 4.0592e-05\n",
      "Epoch 39/100\n",
      "30/30 [==============================] - 1s 33ms/step - loss: 3.8269e-05\n",
      "Epoch 40/100\n",
      "30/30 [==============================] - 1s 36ms/step - loss: 3.8910e-05\n",
      "Epoch 41/100\n",
      "30/30 [==============================] - 1s 33ms/step - loss: 3.7086e-05\n",
      "Epoch 42/100\n",
      "30/30 [==============================] - 1s 33ms/step - loss: 3.6155e-05\n",
      "Epoch 43/100\n",
      "30/30 [==============================] - 1s 34ms/step - loss: 3.8886e-05\n",
      "Epoch 44/100\n",
      "30/30 [==============================] - 1s 38ms/step - loss: 3.8509e-05\n",
      "Epoch 45/100\n",
      "30/30 [==============================] - 1s 34ms/step - loss: 3.6837e-05\n",
      "Epoch 46/100\n",
      "30/30 [==============================] - 1s 33ms/step - loss: 3.6383e-05\n",
      "Epoch 47/100\n",
      "30/30 [==============================] - 1s 33ms/step - loss: 3.6594e-05\n",
      "Epoch 48/100\n",
      "30/30 [==============================] - 1s 33ms/step - loss: 3.3888e-05\n",
      "Epoch 49/100\n",
      "30/30 [==============================] - 1s 33ms/step - loss: 3.3427e-05\n",
      "Epoch 50/100\n",
      "30/30 [==============================] - 1s 33ms/step - loss: 3.3929e-05\n",
      "Epoch 51/100\n",
      "30/30 [==============================] - 1s 33ms/step - loss: 3.2603e-05\n",
      "Epoch 52/100\n",
      "30/30 [==============================] - 1s 35ms/step - loss: 3.2205e-05\n",
      "Epoch 53/100\n",
      "30/30 [==============================] - 1s 33ms/step - loss: 3.8282e-05\n",
      "Epoch 54/100\n",
      "30/30 [==============================] - 1s 33ms/step - loss: 3.4076e-05\n",
      "Epoch 55/100\n",
      "30/30 [==============================] - 1s 36ms/step - loss: 4.1432e-05\n",
      "Epoch 56/100\n",
      "30/30 [==============================] - 1s 37ms/step - loss: 3.1847e-05\n",
      "Epoch 57/100\n",
      "30/30 [==============================] - 1s 35ms/step - loss: 3.1546e-05\n",
      "Epoch 58/100\n",
      "30/30 [==============================] - 1s 36ms/step - loss: 2.9827e-05\n",
      "Epoch 59/100\n",
      "30/30 [==============================] - 1s 34ms/step - loss: 2.8001e-05\n",
      "Epoch 60/100\n",
      "30/30 [==============================] - 1s 34ms/step - loss: 2.9274e-05\n",
      "Epoch 61/100\n",
      "30/30 [==============================] - 1s 33ms/step - loss: 3.4570e-05\n",
      "Epoch 62/100\n",
      "30/30 [==============================] - 1s 34ms/step - loss: 2.8093e-05\n",
      "Epoch 63/100\n",
      "30/30 [==============================] - 1s 34ms/step - loss: 2.8782e-05\n",
      "Epoch 64/100\n",
      "30/30 [==============================] - 1s 34ms/step - loss: 2.7808e-05\n",
      "Epoch 65/100\n",
      "30/30 [==============================] - 1s 38ms/step - loss: 2.7564e-05\n",
      "Epoch 66/100\n",
      "30/30 [==============================] - 1s 39ms/step - loss: 2.6238e-05\n",
      "Epoch 67/100\n",
      "30/30 [==============================] - 1s 44ms/step - loss: 2.9006e-05\n",
      "Epoch 68/100\n",
      "30/30 [==============================] - 1s 41ms/step - loss: 2.6512e-05\n",
      "Epoch 69/100\n",
      "30/30 [==============================] - 1s 41ms/step - loss: 2.8163e-05\n",
      "Epoch 70/100\n",
      "30/30 [==============================] - 1s 35ms/step - loss: 3.7043e-05\n",
      "Epoch 71/100\n",
      "30/30 [==============================] - 1s 35ms/step - loss: 2.7009e-05\n",
      "Epoch 72/100\n",
      "30/30 [==============================] - 1s 33ms/step - loss: 2.5064e-05\n",
      "Epoch 73/100\n",
      "30/30 [==============================] - 1s 37ms/step - loss: 2.4752e-05\n",
      "Epoch 74/100\n",
      "30/30 [==============================] - 1s 36ms/step - loss: 2.4286e-05\n",
      "Epoch 75/100\n",
      "30/30 [==============================] - 1s 36ms/step - loss: 2.8597e-05\n",
      "Epoch 76/100\n",
      "30/30 [==============================] - 1s 35ms/step - loss: 2.9540e-05\n",
      "Epoch 77/100\n",
      "30/30 [==============================] - 1s 35ms/step - loss: 2.2788e-05\n",
      "Epoch 78/100\n",
      "30/30 [==============================] - 1s 34ms/step - loss: 2.4167e-05\n",
      "Epoch 79/100\n",
      "30/30 [==============================] - 1s 33ms/step - loss: 2.7449e-05\n",
      "Epoch 80/100\n",
      "30/30 [==============================] - 1s 33ms/step - loss: 2.5597e-05\n",
      "Epoch 81/100\n",
      "30/30 [==============================] - 1s 34ms/step - loss: 2.5096e-05\n",
      "Epoch 82/100\n",
      "30/30 [==============================] - 1s 33ms/step - loss: 2.4605e-05\n",
      "Epoch 83/100\n",
      "30/30 [==============================] - 1s 32ms/step - loss: 2.5171e-05\n",
      "Epoch 84/100\n",
      "30/30 [==============================] - 1s 32ms/step - loss: 2.1531e-05\n",
      "Epoch 85/100\n",
      "30/30 [==============================] - 1s 36ms/step - loss: 2.2182e-05\n",
      "Epoch 86/100\n",
      "30/30 [==============================] - 1s 35ms/step - loss: 2.3152e-05\n",
      "Epoch 87/100\n",
      "30/30 [==============================] - 1s 39ms/step - loss: 2.2506e-05\n",
      "Epoch 88/100\n",
      "30/30 [==============================] - 1s 35ms/step - loss: 2.1408e-05\n",
      "Epoch 89/100\n",
      "30/30 [==============================] - 1s 35ms/step - loss: 2.1192e-05\n",
      "Epoch 90/100\n",
      "30/30 [==============================] - 1s 35ms/step - loss: 2.2538e-05\n",
      "Epoch 91/100\n",
      "30/30 [==============================] - 1s 34ms/step - loss: 2.3181e-05\n",
      "Epoch 92/100\n",
      "30/30 [==============================] - 1s 33ms/step - loss: 2.1242e-05\n",
      "Epoch 93/100\n",
      "30/30 [==============================] - 1s 42ms/step - loss: 2.0556e-05\n",
      "Epoch 94/100\n",
      "30/30 [==============================] - 1s 44ms/step - loss: 2.1041e-05\n",
      "Epoch 95/100\n",
      "30/30 [==============================] - 1s 45ms/step - loss: 2.1377e-05\n",
      "Epoch 96/100\n"
     ]
    },
    {
     "name": "stdout",
     "output_type": "stream",
     "text": [
      "30/30 [==============================] - 1s 40ms/step - loss: 2.1210e-05\n",
      "Epoch 97/100\n",
      "30/30 [==============================] - 1s 38ms/step - loss: 2.0574e-05\n",
      "Epoch 98/100\n",
      "30/30 [==============================] - 1s 35ms/step - loss: 2.1831e-05\n",
      "Epoch 99/100\n",
      "30/30 [==============================] - 1s 34ms/step - loss: 2.1317e-05\n",
      "Epoch 100/100\n",
      "30/30 [==============================] - 1s 35ms/step - loss: 1.8514e-05\n"
     ]
    },
    {
     "data": {
      "text/plain": [
       "<keras.callbacks.History at 0x224714b1190>"
      ]
     },
     "execution_count": 14,
     "metadata": {},
     "output_type": "execute_result"
    }
   ],
   "source": [
    "#Train the model\n",
    "model.fit(x_train, y_train, batch_size=64, epochs=100, verbose=1)"
   ]
  },
  {
   "cell_type": "code",
   "execution_count": 15,
   "metadata": {},
   "outputs": [],
   "source": [
    "#Create the Testing data set\n",
    "#create a new array containing scaled values from index 1907 to 2458\n",
    "test_data = scaled_data[training_data_len - 60:, :]\n",
    "#create the data sets x_test and y_test\n",
    "x_test = []\n",
    "y_test = dataset[training_data_len:, :]\n",
    "\n",
    "for i in range(60, len(test_data)):\n",
    "    x_test.append(test_data[i-60:i, 0])\n",
    "    "
   ]
  },
  {
   "cell_type": "code",
   "execution_count": 16,
   "metadata": {},
   "outputs": [],
   "source": [
    "#convert the data to a numpy array\n",
    "x_test = np.array(x_test)"
   ]
  },
  {
   "cell_type": "code",
   "execution_count": 17,
   "metadata": {},
   "outputs": [
    {
     "data": {
      "text/plain": [
       "(491, 60, 1)"
      ]
     },
     "execution_count": 17,
     "metadata": {},
     "output_type": "execute_result"
    }
   ],
   "source": [
    "#Reshape the data\n",
    "x_test = np.reshape(x_test, (x_test.shape[0], x_test.shape[1], 1))\n",
    "x_test.shape"
   ]
  },
  {
   "cell_type": "code",
   "execution_count": 18,
   "metadata": {},
   "outputs": [],
   "source": [
    "#Get the models predicted price values\n",
    "predictions = model.predict(x_test)\n",
    "predictions = scaler.inverse_transform(predictions)"
   ]
  },
  {
   "cell_type": "code",
   "execution_count": 19,
   "metadata": {},
   "outputs": [
    {
     "data": {
      "text/plain": [
       "1.6449412561482664"
      ]
     },
     "execution_count": 19,
     "metadata": {},
     "output_type": "execute_result"
    }
   ],
   "source": [
    "#Get the root mean squared error (RMSE)\n",
    "rmse = np.sqrt( np.mean( predictions - y_test )**2 )\n",
    "rmse"
   ]
  },
  {
   "cell_type": "code",
   "execution_count": 20,
   "metadata": {},
   "outputs": [
    {
     "name": "stderr",
     "output_type": "stream",
     "text": [
      "<ipython-input-20-8c657e7a7c96>:4: SettingWithCopyWarning: \n",
      "A value is trying to be set on a copy of a slice from a DataFrame.\n",
      "Try using .loc[row_indexer,col_indexer] = value instead\n",
      "\n",
      "See the caveats in the documentation: https://pandas.pydata.org/pandas-docs/stable/user_guide/indexing.html#returning-a-view-versus-a-copy\n",
      "  valid['Predictions'] = predictions\n"
     ]
    },
    {
     "data": {
      "image/png": "[encoded data removed]",
      "text/plain": [
       "<Figure size 1152x576 with 1 Axes>"
      ]
     },
     "metadata": {},
     "output_type": "display_data"
    }
   ],
   "source": [
    "#Plot the data\n",
    "train = data[:training_data_len]\n",
    "valid = data[training_data_len:]\n",
    "valid['Predictions'] = predictions\n",
    "#Visualize the data\n",
    "plt.figure(figsize=(16,8))\n",
    "plt.title('Model')\n",
    "plt.xlabel('Date', fontsize=18)\n",
    "plt.ylabel('Close Price USD ($)', fontsize=18)\n",
    "plt.plot(train['Close'])\n",
    "plt.plot(valid[['Close', 'Predictions']])\n",
    "plt.legend(['Train', 'Val', 'Predictions'], loc='lower right')\n",
    "plt.show()"
   ]
  },
  {
   "cell_type": "code",
   "execution_count": 21,
   "metadata": {},
   "outputs": [
    {
     "data": {
      "text/html": [
       "<div>\n",
       "<style scoped>\n",
       "    .dataframe tbody tr th:only-of-type {\n",
       "        vertical-align: middle;\n",
       "    }\n",
       "\n",
       "    .dataframe tbody tr th {\n",
       "        vertical-align: top;\n",
       "    }\n",
       "\n",
       "    .dataframe thead th {\n",
       "        text-align: right;\n",
       "    }\n",
       "</style>\n",
       "<table border=\"1\" class=\"dataframe\">\n",
       "  <thead>\n",
       "    <tr style=\"text-align: right;\">\n",
       "      <th></th>\n",
       "      <th>Close</th>\n",
       "      <th>Predictions</th>\n",
       "    </tr>\n",
       "    <tr>\n",
       "      <th>Date</th>\n",
       "      <th></th>\n",
       "      <th></th>\n",
       "    </tr>\n",
       "  </thead>\n",
       "  <tbody>\n",
       "    <tr>\n",
       "      <th>2019-10-28</th>\n",
       "      <td>62.262501</td>\n",
       "      <td>61.427200</td>\n",
       "    </tr>\n",
       "    <tr>\n",
       "      <th>2019-10-29</th>\n",
       "      <td>60.822498</td>\n",
       "      <td>62.056477</td>\n",
       "    </tr>\n",
       "    <tr>\n",
       "      <th>2019-10-30</th>\n",
       "      <td>60.814999</td>\n",
       "      <td>61.443527</td>\n",
       "    </tr>\n",
       "    <tr>\n",
       "      <th>2019-10-31</th>\n",
       "      <td>62.189999</td>\n",
       "      <td>60.889965</td>\n",
       "    </tr>\n",
       "    <tr>\n",
       "      <th>2019-11-01</th>\n",
       "      <td>63.955002</td>\n",
       "      <td>61.480995</td>\n",
       "    </tr>\n",
       "    <tr>\n",
       "      <th>...</th>\n",
       "      <td>...</td>\n",
       "      <td>...</td>\n",
       "    </tr>\n",
       "    <tr>\n",
       "      <th>2021-10-01</th>\n",
       "      <td>142.649994</td>\n",
       "      <td>138.753845</td>\n",
       "    </tr>\n",
       "    <tr>\n",
       "      <th>2021-10-04</th>\n",
       "      <td>139.139999</td>\n",
       "      <td>139.658447</td>\n",
       "    </tr>\n",
       "    <tr>\n",
       "      <th>2021-10-05</th>\n",
       "      <td>141.110001</td>\n",
       "      <td>137.100189</td>\n",
       "    </tr>\n",
       "    <tr>\n",
       "      <th>2021-10-06</th>\n",
       "      <td>142.000000</td>\n",
       "      <td>137.818604</td>\n",
       "    </tr>\n",
       "    <tr>\n",
       "      <th>2021-10-07</th>\n",
       "      <td>143.289993</td>\n",
       "      <td>139.181290</td>\n",
       "    </tr>\n",
       "  </tbody>\n",
       "</table>\n",
       "<p>491 rows × 2 columns</p>\n",
       "</div>"
      ],
      "text/plain": [
       "                 Close  Predictions\n",
       "Date                               \n",
       "2019-10-28   62.262501    61.427200\n",
       "2019-10-29   60.822498    62.056477\n",
       "2019-10-30   60.814999    61.443527\n",
       "2019-10-31   62.189999    60.889965\n",
       "2019-11-01   63.955002    61.480995\n",
       "...                ...          ...\n",
       "2021-10-01  142.649994   138.753845\n",
       "2021-10-04  139.139999   139.658447\n",
       "2021-10-05  141.110001   137.100189\n",
       "2021-10-06  142.000000   137.818604\n",
       "2021-10-07  143.289993   139.181290\n",
       "\n",
       "[491 rows x 2 columns]"
      ]
     },
     "execution_count": 21,
     "metadata": {},
     "output_type": "execute_result"
    }
   ],
   "source": [
    "#Show the valid and predicted prices\n",
    "valid"
   ]
  },
  {
   "cell_type": "code",
   "execution_count": 22,
   "metadata": {},
   "outputs": [
    {
     "name": "stdout",
     "output_type": "stream",
     "text": [
      "[[140.70537]]\n"
     ]
    }
   ],
   "source": [
    "#Get the Quote\n",
    "apple_quote = web.DataReader('AAPL', data_source='yahoo', start='2012-01-01', end='2021-10-07')\n",
    "#Create a new dataframe\n",
    "new_df = apple_quote.filter(['Close'])\n",
    "#Get the last 60 days closing price values and convert the dataframe to an array\n",
    "last_60_days = new_df[-60:].values\n",
    "#Scale the data to be values between 0 and 1\n",
    "last_60_days_scaled = scaler.transform(last_60_days)\n",
    "#Create an empty list\n",
    "X_test = []\n",
    "#Append the past 60 days\n",
    "X_test.append(last_60_days_scaled)\n",
    "#Convert the X_test to a numpy array\n",
    "X_test = np.array(X_test)\n",
    "#Reshape the data\n",
    "X_test = np.reshape(X_test, (X_test.shape[0], X_test.shape[1], 1))\n",
    "#Get the predicted scaled price\n",
    "pred_price = model.predict(X_test)\n",
    "#Undo the scaling\n",
    "pred_price = scaler.inverse_transform(pred_price)\n",
    "print(pred_price)"
   ]
  },
  {
   "cell_type": "code",
   "execution_count": 23,
   "metadata": {},
   "outputs": [
    {
     "name": "stdout",
     "output_type": "stream",
     "text": [
      "Date\n",
      "2021-10-07    143.289993\n",
      "2021-10-08    142.899994\n",
      "Name: Close, dtype: float64\n"
     ]
    }
   ],
   "source": [
    "apple_quote2 = web.DataReader('AAPL', data_source='yahoo', start='2021-10-08', end='2021-10-08')\n",
    "print(apple_quote2['Close'])"
   ]
  },
  {
   "cell_type": "code",
   "execution_count": null,
   "metadata": {},
   "outputs": [],
   "source": []
  },
  {
   "cell_type": "code",
   "execution_count": null,
   "metadata": {},
   "outputs": [],
   "source": []
  }
 ],
 "metadata": {
  "kernelspec": {
   "display_name": "Python 3",
   "language": "python",
   "name": "python3"
  },
  "language_info": {
   "codemirror_mode": {
    "name": "ipython",
    "version": 3
   },
   "file_extension": ".py",
   "mimetype": "text/x-python",
   "name": "python",
   "nbconvert_exporter": "python",
   "pygments_lexer": "ipython3",
   "version": "3.8.5"
  }
 },
 "nbformat": 4,
 "nbformat_minor": 5
}
